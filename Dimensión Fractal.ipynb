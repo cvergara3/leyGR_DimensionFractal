{
 "cells": [
  {
   "cell_type": "code",
   "execution_count": 11,
   "metadata": {},
   "outputs": [],
   "source": [
    "#Importar librerías necesarias\n",
    "\n",
    "import numpy as np\n",
    "import pandas as pd\n",
    "import matplotlib.pyplot as plt\n",
    "import scipy.optimize as spopt\n",
    "import scipy.fftpack as spfft\n",
    "import scipy.ndimage as spimg"
   ]
  },
  {
   "cell_type": "code",
   "execution_count": 12,
   "metadata": {},
   "outputs": [],
   "source": [
    "#Cargar base de datos\n",
    "\n",
    "df_catalogo = pd.read_csv('catalogo_sismos.csv')"
   ]
  },
  {
   "cell_type": "code",
   "execution_count": 13,
   "metadata": {},
   "outputs": [],
   "source": [
    "#FIltrar las columnas a utlizar\n",
    "\n",
    "df_punto2 = df_catalogo[['coordenadaX','coordenadaY','DEPTH']]"
   ]
  },
  {
   "cell_type": "code",
   "execution_count": 14,
   "metadata": {},
   "outputs": [
    {
     "name": "stderr",
     "output_type": "stream",
     "text": [
      "C:\\ProgramData\\Anaconda3\\lib\\site-packages\\pandas\\core\\frame.py:4172: SettingWithCopyWarning: \n",
      "A value is trying to be set on a copy of a slice from a DataFrame\n",
      "\n",
      "See the caveats in the documentation: https://pandas.pydata.org/pandas-docs/stable/user_guide/indexing.html#returning-a-view-versus-a-copy\n",
      "  method=method,\n",
      "C:\\ProgramData\\Anaconda3\\lib\\site-packages\\ipykernel_launcher.py:5: SettingWithCopyWarning: \n",
      "A value is trying to be set on a copy of a slice from a DataFrame\n",
      "\n",
      "See the caveats in the documentation: https://pandas.pydata.org/pandas-docs/stable/user_guide/indexing.html#returning-a-view-versus-a-copy\n",
      "  \"\"\"\n"
     ]
    }
   ],
   "source": [
    "#Eliminar valores nulos\n",
    "\n",
    "nan_value = float(\"NaN\")\n",
    "df_punto2.replace(\"\", nan_value, inplace=True)\n",
    "df_punto2.dropna(inplace=True)"
   ]
  },
  {
   "cell_type": "code",
   "execution_count": 15,
   "metadata": {},
   "outputs": [
    {
     "data": {
      "text/plain": [
       "array([[1109496.14333474],\n",
       "       [1245631.26053738],\n",
       "       [-147735.21796565]])"
      ]
     },
     "execution_count": 15,
     "metadata": {},
     "output_type": "execute_result"
    }
   ],
   "source": [
    "#Cálculo del centroide\n",
    "\n",
    "z=df_punto2['DEPTH']*-1000\n",
    "y=df_punto2['coordenadaY']\n",
    "x=df_punto2['coordenadaX']\n",
    "\n",
    "z_prom=np.mean(z)\n",
    "x_prom=np.mean(x)\n",
    "y_prom=np.mean(y)\n",
    "\n",
    "puntocentral=np.vstack((x_prom, y_prom, z_prom))\n",
    "puntocentral"
   ]
  },
  {
   "cell_type": "code",
   "execution_count": 16,
   "metadata": {},
   "outputs": [],
   "source": [
    "# Cálculo de N, Cr y la distancia al centroide\n",
    "\n",
    "dist=np.sqrt(((x-x_prom)**2)+((y-y_prom)**2)+((z-z_prom)**2))\n",
    "N=len(df_punto2)\n",
    "\n",
    "def Nvalues(dist, r):\n",
    "    Nv=np.count_nonzero(dist < r)\n",
    "    Nv=np.mean(Nv)\n",
    "    return Nv\n",
    "\n",
    "def cr(Nr,N):\n",
    "    cr=(2*Nr)/(N*(N-1))\n",
    "    return cr\n",
    "\n",
    "amin = np.ceil(np.min(dist))\n",
    "amax = np.ceil(np.max(dist))\n",
    "\n",
    "r=np.linspace(amin, amax, N)\n",
    "c=np.zeros(len(r))\n",
    "Nr=np.zeros(len(r))\n",
    "\n",
    "for i in range (len(r)):\n",
    "    Nr[i] = Nvalues(dist, r[i])\n",
    "    \n",
    "for i in range (len(r)):\n",
    "    c[i]=cr(Nr[i],N)"
   ]
  },
  {
   "cell_type": "code",
   "execution_count": 17,
   "metadata": {},
   "outputs": [
    {
     "name": "stderr",
     "output_type": "stream",
     "text": [
      "C:\\ProgramData\\Anaconda3\\lib\\site-packages\\ipykernel_launcher.py:3: SettingWithCopyWarning: \n",
      "A value is trying to be set on a copy of a slice from a DataFrame.\n",
      "Try using .loc[row_indexer,col_indexer] = value instead\n",
      "\n",
      "See the caveats in the documentation: https://pandas.pydata.org/pandas-docs/stable/user_guide/indexing.html#returning-a-view-versus-a-copy\n",
      "  This is separate from the ipykernel package so we can avoid doing imports until\n",
      "C:\\ProgramData\\Anaconda3\\lib\\site-packages\\ipykernel_launcher.py:4: SettingWithCopyWarning: \n",
      "A value is trying to be set on a copy of a slice from a DataFrame.\n",
      "Try using .loc[row_indexer,col_indexer] = value instead\n",
      "\n",
      "See the caveats in the documentation: https://pandas.pydata.org/pandas-docs/stable/user_guide/indexing.html#returning-a-view-versus-a-copy\n",
      "  after removing the cwd from sys.path.\n"
     ]
    }
   ],
   "source": [
    "#Definición de las variables r y c\n",
    "\n",
    "df_punto2['r']=r \n",
    "df_punto2['c']=c "
   ]
  },
  {
   "cell_type": "code",
   "execution_count": 18,
   "metadata": {},
   "outputs": [],
   "source": [
    "#Definir límite de la regresión\n",
    "\n",
    "Limite=7000\n",
    "valo_1= df_punto2['r'] < Limite\n",
    "x=np.log10(df_punto2['r'][valo_1]) \n",
    "y=np.log10(df_punto2['c'][valo_1])\n",
    "\n",
    "def predlog(x0, x):\n",
    "    return 10**(x0[0] + (x0[1]*np.log10(x)))"
   ]
  },
  {
   "cell_type": "code",
   "execution_count": 19,
   "metadata": {
    "scrolled": true
   },
   "outputs": [
    {
     "data": {
      "text/plain": [
       "array([[-14.87199489],\n",
       "       [  2.94336859],\n",
       "       [  0.99165399]])"
      ]
     },
     "execution_count": 19,
     "metadata": {},
     "output_type": "execute_result"
    }
   ],
   "source": [
    "#Realizar regresión por la norma L1\n",
    "\n",
    "from scipy import stats\n",
    "slope, intercept, r_value, p_value, std_err=stats.linregress(x,y)\n",
    "r2_value=r_value*r_value\n",
    "lreg=np.vstack((intercept, slope, r2_value))\n",
    "lreg"
   ]
  },
  {
   "cell_type": "code",
   "execution_count": 20,
   "metadata": {},
   "outputs": [
    {
     "data": {
      "image/png": "[encoded data removed]",
      "text/plain": [
       "<Figure size 432x288 with 1 Axes>"
      ]
     },
     "metadata": {
      "needs_background": "light"
     },
     "output_type": "display_data"
    }
   ],
   "source": [
    "#Gráfica de la dimensión fractal\n",
    "\n",
    "fig2 = plt.figure()\n",
    "ax = plt.gca()\n",
    "\n",
    "fig2.suptitle(\"Dimension Fractal\", fontsize=16)\n",
    "ax.scatter(r, c, marker=\".\", color=\"blue\")\n",
    "ax.plot(r, predlog(lreg, r), color=\"red\")\n",
    "ax.set_yscale('log')\n",
    "ax.set_xscale('log')\n",
    "ax.set_ylim(1e-7, 1e-3)\n",
    "ax.set_xlim(7e2, 4e4)\n",
    "\n",
    "fig2.savefig('Dimension_fractal.png', dpi=400)"
   ]
  },
  {
   "cell_type": "code",
   "execution_count": null,
   "metadata": {},
   "outputs": [],
   "source": []
  }
 ],
 "metadata": {
  "kernelspec": {
   "display_name": "Python 3",
   "language": "python",
   "name": "python3"
  },
  "language_info": {
   "codemirror_mode": {
    "name": "ipython",
    "version": 3
   },
   "file_extension": ".py",
   "mimetype": "text/x-python",
   "name": "python",
   "nbconvert_exporter": "python",
   "pygments_lexer": "ipython3",
   "version": "3.7.6"
  }
 },
 "nbformat": 4,
 "nbformat_minor": 4
}
